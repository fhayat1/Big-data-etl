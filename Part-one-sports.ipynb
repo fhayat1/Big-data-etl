{
  "nbformat": 4,
  "nbformat_minor": 0,
  "metadata": {
    "colab": {
      "provenance": [],
      "authorship_tag": "ABX9TyMuDMp3YDZ9gUwzNQgsedwI",
      "include_colab_link": true
    },
    "kernelspec": {
      "name": "python3",
      "display_name": "Python 3"
    },
    "language_info": {
      "name": "python"
    }
  },
  "cells": [
    {
      "cell_type": "markdown",
      "metadata": {
        "id": "view-in-github",
        "colab_type": "text"
      },
      "source": [
        "<a href=\"https://colab.research.google.com/github/fhayat1/Big-data-etl/blob/main/Part-one-sports.ipynb\" target=\"_parent\"><img src=\"https://colab.research.google.com/assets/colab-badge.svg\" alt=\"Open In Colab\"/></a>"
      ]
    },
    {
      "cell_type": "code",
      "execution_count": 1,
      "metadata": {
        "colab": {
          "base_uri": "https://localhost:8080/"
        },
        "id": "0pkC2UetEVOM",
        "outputId": "3d1f0fce-5578-40b3-db8e-f15534af9dab"
      },
      "outputs": [
        {
          "output_type": "stream",
          "name": "stdout",
          "text": [
            "\r0% [Working]\r            \rGet:1 https://cloud.r-project.org/bin/linux/ubuntu focal-cran40/ InRelease [3,622 B]\n",
            "\r0% [Connecting to archive.ubuntu.com (185.125.190.36)] [Connecting to security.\r0% [Connecting to archive.ubuntu.com (185.125.190.36)] [Connecting to security.\r                                                                               \rIgn:2 https://developer.download.nvidia.com/compute/machine-learning/repos/ubuntu2004/x86_64  InRelease\n",
            "\r0% [Connecting to archive.ubuntu.com (185.125.190.36)] [Connecting to security.\r                                                                               \rHit:3 https://developer.download.nvidia.com/compute/cuda/repos/ubuntu2004/x86_64  InRelease\n",
            "Hit:4 https://developer.download.nvidia.com/compute/machine-learning/repos/ubuntu2004/x86_64  Release\n",
            "Get:5 http://security.ubuntu.com/ubuntu focal-security InRelease [114 kB]\n",
            "Hit:6 http://archive.ubuntu.com/ubuntu focal InRelease\n",
            "Get:7 http://archive.ubuntu.com/ubuntu focal-updates InRelease [114 kB]\n",
            "Get:8 http://ppa.launchpad.net/c2d4u.team/c2d4u4.0+/ubuntu focal InRelease [18.1 kB]\n",
            "Get:9 https://cloud.r-project.org/bin/linux/ubuntu focal-cran40/ Packages [71.6 kB]\n",
            "Hit:11 http://ppa.launchpad.net/cran/libgit2/ubuntu focal InRelease\n",
            "Get:12 http://archive.ubuntu.com/ubuntu focal-backports InRelease [108 kB]\n",
            "Hit:13 http://ppa.launchpad.net/deadsnakes/ppa/ubuntu focal InRelease\n",
            "Hit:14 http://ppa.launchpad.net/graphics-drivers/ppa/ubuntu focal InRelease\n",
            "Get:15 http://security.ubuntu.com/ubuntu focal-security/universe amd64 Packages [998 kB]\n",
            "Hit:16 http://ppa.launchpad.net/ubuntugis/ppa/ubuntu focal InRelease\n",
            "Get:17 http://archive.ubuntu.com/ubuntu focal-updates/universe amd64 Packages [1,297 kB]\n",
            "Get:18 http://ppa.launchpad.net/c2d4u.team/c2d4u4.0+/ubuntu focal/main Sources [2,386 kB]\n",
            "Get:19 http://security.ubuntu.com/ubuntu focal-security/main amd64 Packages [2,496 kB]\n",
            "Get:20 http://archive.ubuntu.com/ubuntu focal-updates/main amd64 Packages [2,970 kB]\n",
            "Get:21 http://ppa.launchpad.net/c2d4u.team/c2d4u4.0+/ubuntu focal/main amd64 Packages [1,130 kB]\n",
            "Fetched 11.7 MB in 4s (2,828 kB/s)\n",
            "Reading package lists... Done\n"
          ]
        }
      ],
      "source": [
        "# Activate Spark in our Colab notebook.\n",
        "import os\n",
        "# Find the latest version of spark 3.2  from http://www.apache.org/dist/spark/ and enter as the spark version\n",
        "# For example:\n",
        "# spark_version = 'spark-3.2.2'\n",
        "spark_version = 'spark-3.2.2'\n",
        "os.environ['SPARK_VERSION']=spark_version\n",
        "\n",
        "# Install Spark and Java\n",
        "!apt-get update\n",
        "!apt-get install openjdk-8-jdk-headless -qq > /dev/null\n",
        "!wget -q http://archive.apache.org/dist/spark/$SPARK_VERSION/$SPARK_VERSION-bin-hadoop2.7.tgz\n",
        "!tar xf $SPARK_VERSION-bin-hadoop2.7.tgz\n",
        "!pip install -q findspark\n",
        "\n",
        "# Set Environment Variables\n",
        "import os\n",
        "os.environ[\"JAVA_HOME\"] = \"/usr/lib/jvm/java-8-openjdk-amd64\"\n",
        "os.environ[\"SPARK_HOME\"] = f\"/content/{spark_version}-bin-hadoop2.7\"\n",
        "\n",
        "# Start a SparkSession\n",
        "import findspark\n",
        "findspark.init()"
      ]
    },
    {
      "cell_type": "code",
      "source": [
        "# Get postgresql package\n",
        "!wget https://jdbc.postgresql.org/download/postgresql-42.2.9.jar"
      ],
      "metadata": {
        "colab": {
          "base_uri": "https://localhost:8080/"
        },
        "id": "SCZAG-eFEdey",
        "outputId": "58f601cc-7d0a-40c8-b8f1-6b31fe5bc4e9"
      },
      "execution_count": 2,
      "outputs": [
        {
          "output_type": "stream",
          "name": "stdout",
          "text": [
            "--2023-02-20 18:25:30--  https://jdbc.postgresql.org/download/postgresql-42.2.9.jar\n",
            "Resolving jdbc.postgresql.org (jdbc.postgresql.org)... 72.32.157.228, 2001:4800:3e1:1::228\n",
            "Connecting to jdbc.postgresql.org (jdbc.postgresql.org)|72.32.157.228|:443... connected.\n",
            "HTTP request sent, awaiting response... 200 OK\n",
            "Length: 914037 (893K) [application/java-archive]\n",
            "Saving to: ‘postgresql-42.2.9.jar’\n",
            "\n",
            "postgresql-42.2.9.j 100%[===================>] 892.61K  4.52MB/s    in 0.2s    \n",
            "\n",
            "2023-02-20 18:25:31 (4.52 MB/s) - ‘postgresql-42.2.9.jar’ saved [914037/914037]\n",
            "\n"
          ]
        }
      ]
    },
    {
      "cell_type": "code",
      "source": [
        "# Import Spark and create a SparkSession\n",
        "from pyspark.sql import SparkSession\n",
        "spark = SparkSession.builder.appName(\"BigData-HW-1\").config(\"spark.driver.extraClassPath\",\"/content/postgresql-42.2.9.jar\").getOrCreate()"
      ],
      "metadata": {
        "id": "kh63ManbEv4D"
      },
      "execution_count": 3,
      "outputs": []
    },
    {
      "cell_type": "markdown",
      "source": [
        "Extract the Amazon Data into Spark DataFrame"
      ],
      "metadata": {
        "id": "KYfH-frIFFn1"
      }
    },
    {
      "cell_type": "code",
      "source": [
        "# Read in the data from an S3 Bucket\n",
        "from pyspark import SparkFiles\n",
        "url =\"https://s3.amazonaws.com/amazon-reviews-pds/tsv/amazon_reviews_us_Sports_v1_00.tsv.gz\"\n",
        "spark.sparkContext.addFile(url)\n",
        "df = spark.read.option('header', 'true').csv(SparkFiles.get(\"amazon_reviews_us_Sports_v1_00.tsv.gz\"), inferSchema=True, sep='\\t', timestampFormat=\"yyyy-mm-dd\")\n",
        "df.show()"
      ],
      "metadata": {
        "colab": {
          "base_uri": "https://localhost:8080/"
        },
        "id": "tAh3e6b7FHCt",
        "outputId": "d9efd2e5-e59b-4d03-9068-7f5e1dbe3c94"
      },
      "execution_count": 4,
      "outputs": [
        {
          "output_type": "stream",
          "name": "stdout",
          "text": [
            "+-----------+-----------+--------------+----------+--------------+--------------------+----------------+-----------+-------------+-----------+----+-----------------+--------------------+--------------------+-------------------+\n",
            "|marketplace|customer_id|     review_id|product_id|product_parent|       product_title|product_category|star_rating|helpful_votes|total_votes|vine|verified_purchase|     review_headline|         review_body|        review_date|\n",
            "+-----------+-----------+--------------+----------+--------------+--------------------+----------------+-----------+-------------+-----------+----+-----------------+--------------------+--------------------+-------------------+\n",
            "|         US|   48945260|R1WBPB8MDCCN8F|B012P7UPSM|     409940130|Chicago Blackhawk...|          Sports|          5|            0|          0|   N|                N|   LOVE IT. 6 stars!|Bought this last ...|2015-01-31 00:08:00|\n",
            "|         US|    5782091|R32M0YEWV77XG8|B001GQ3VHG|     657746679|Copag Poker Size ...|          Sports|          5|            1|          1|   N|                Y|       Shipped fast.|These are the bes...|2015-01-31 00:08:00|\n",
            "|         US|   45813853| RR8V7WR27NXJ5|B008VS8M58|     962442336|Baoer 223 5.56x45...|          Sports|          1|            0|          0|   N|                Y|Good idea if it w...|It looks good, th...|2015-01-31 00:08:00|\n",
            "|         US|    1593730|R1MHO5V9Z932AY|B005F06F4U|      74305227|All Terrain Tackl...|          Sports|          5|            0|          0|   N|                Y|          Five Stars|           Great jig|2015-01-31 00:08:00|\n",
            "|         US|   29605511|R16PD71086BD2V|B010T4IE2C|     787185588|Swim Cap - 3 Pack...|          Sports|          5|            0|          1|   N|                N|Great quality sil...|I love swimming i...|2015-01-31 00:08:00|\n",
            "|         US|   11112959|R1Z8IFGWTRWXT6|B004RKJGLS|      94127483|adidas Men's Spor...|          Sports|          3|            0|          0|   N|                Y|Love everything a...|Love everything a...|2015-01-31 00:08:00|\n",
            "|         US|     108031|R3AUMSHAW73HWN|B005V3DCBU|     526977496|Nike Men's Perfor...|          Sports|          4|            2|          3|   N|                N|          Four Stars|not the best sock...|2015-01-31 00:08:00|\n",
            "|         US|   13981540|R2KWDWFOHGX6FL|B00MHT9WN8|      26521265|Green Bay Packers...|          Sports|          5|            0|          0|   N|                Y|          Five Stars|             Love it|2015-01-31 00:08:00|\n",
            "|         US|   37993909|R3H9543FWBWFBU|B001CSIRQ8|     652431165|Isokinetics Inc. ...|          Sports|          5|            1|          1|   N|                Y|can't wait to use it|Unfortunately I h...|2015-01-31 00:08:00|\n",
            "|         US|   26040213| RUANXOQ9W3OU5|B001KZ3NOO|     635861713|Aottop Quality El...|          Sports|          5|            0|          0|   N|                Y|great product, ac...|fast shipping , g...|2015-01-31 00:08:00|\n",
            "|         US|   34657602|R31673RTGEZSW7|B00005RCQS|      72099763|Everlast 2'x6' Fo...|          Sports|          5|            2|          2|   N|                Y|this mat is a pre...|If you have a ter...|2015-01-31 00:08:00|\n",
            "|         US|   14346192|R22OQLFSH42RCM|B00FA7RWVI|     757354022|OGIO Men's Shredd...|          Sports|          5|            1|          1|   N|                Y|  Versatile Golf Bag|Love this golf ba...|2015-01-31 00:08:00|\n",
            "|         US|   38782687|R12LEL4F3TSZUJ|B000MMH2HU|     272402599|Blue Sea Systems ...|          Sports|          5|            2|          2|   N|                Y|Great AC Main Bre...|Perfect mounting ...|2015-01-31 00:08:00|\n",
            "|         US|   27138575|R2L9XWD03072NI|B00WJOATDS|     375070208|Zengi AR15 45 Deg...|          Sports|          5|            1|          2|   N|                Y|   Nice, some quirks|For the cost you ...|2015-01-31 00:08:00|\n",
            "|         US|   11838771|R2K0U91HIACANO|B00BOM2JNY|     639666785|Black Mountain Pr...|          Sports|          5|            0|          0|   N|                N|55 cm - Good qual...|The ball is very ...|2015-01-31 00:08:00|\n",
            "|         US|     535800|R29SP6MBT7MXG7|B00OD5GAFM|      38715442|Trijicon VCOG 1-6...|          Sports|          4|            3|          3|   N|                Y|    Very nice scope.|Very nice scope.....|2015-01-31 00:08:00|\n",
            "|         US|   23156579|R31XREAAMATEPY|B00CAHDC1K|      57088652|Naruto Headband f...|          Sports|          5|            0|          0|   N|                Y|was for my son an...|           This item|2015-01-31 00:08:00|\n",
            "|         US|   48107879|R2116AVB87SO38|B004NLHXLG|     114125984|Under Armour Men'...|          Sports|          5|            0|          0|   N|                Y|          Five Stars|greatest socks i ...|2015-01-31 00:08:00|\n",
            "|         US|   27260960|R3RDVBB6O0X3HW|B00L7OANWI|     883962979|Yes4All Deep Tiss...|          Sports|          5|            0|          0|   N|                Y|          Five Stars|Perfect for home ...|2015-01-31 00:08:00|\n",
            "|         US|   39537314|R3LW5T149LKKQM|B0085PPSIQ|     691479969|Lansky PS-MED01 B...|          Sports|          4|            0|          0|   N|                Y|A bit heavy for p...|Very good product...|2015-01-31 00:08:00|\n",
            "+-----------+-----------+--------------+----------+--------------+--------------------+----------------+-----------+-------------+-----------+----+-----------------+--------------------+--------------------+-------------------+\n",
            "only showing top 20 rows\n",
            "\n"
          ]
        }
      ]
    },
    {
      "cell_type": "code",
      "source": [
        "# Get the number of rows in the DataFrame.\n",
        "df.count()"
      ],
      "metadata": {
        "colab": {
          "base_uri": "https://localhost:8080/"
        },
        "id": "GQuXfRS2FKhw",
        "outputId": "e4ce3bfe-a184-449f-81c6-e12d17bd3e6d"
      },
      "execution_count": 5,
      "outputs": [
        {
          "output_type": "execute_result",
          "data": {
            "text/plain": [
              "4850360"
            ]
          },
          "metadata": {},
          "execution_count": 5
        }
      ]
    },
    {
      "cell_type": "markdown",
      "source": [
        "Transform the Data\n",
        "Create the \"review_id_table\"."
      ],
      "metadata": {
        "id": "4CUrbLOEFSoS"
      }
    },
    {
      "cell_type": "code",
      "source": [
        "from pyspark.sql.functions import to_date\n",
        "review_id_df = df.select([\"review_id\",\"customer_id\",\"product_id\", \"product_parent\",\"review_date\"])\n",
        "review_id_df.show()"
      ],
      "metadata": {
        "colab": {
          "base_uri": "https://localhost:8080/"
        },
        "id": "G6TcnNIcFOtS",
        "outputId": "0c660e6c-c30f-4a46-93ac-5fb27980562a"
      },
      "execution_count": 6,
      "outputs": [
        {
          "output_type": "stream",
          "name": "stdout",
          "text": [
            "+--------------+-----------+----------+--------------+-------------------+\n",
            "|     review_id|customer_id|product_id|product_parent|        review_date|\n",
            "+--------------+-----------+----------+--------------+-------------------+\n",
            "|R1WBPB8MDCCN8F|   48945260|B012P7UPSM|     409940130|2015-01-31 00:08:00|\n",
            "|R32M0YEWV77XG8|    5782091|B001GQ3VHG|     657746679|2015-01-31 00:08:00|\n",
            "| RR8V7WR27NXJ5|   45813853|B008VS8M58|     962442336|2015-01-31 00:08:00|\n",
            "|R1MHO5V9Z932AY|    1593730|B005F06F4U|      74305227|2015-01-31 00:08:00|\n",
            "|R16PD71086BD2V|   29605511|B010T4IE2C|     787185588|2015-01-31 00:08:00|\n",
            "|R1Z8IFGWTRWXT6|   11112959|B004RKJGLS|      94127483|2015-01-31 00:08:00|\n",
            "|R3AUMSHAW73HWN|     108031|B005V3DCBU|     526977496|2015-01-31 00:08:00|\n",
            "|R2KWDWFOHGX6FL|   13981540|B00MHT9WN8|      26521265|2015-01-31 00:08:00|\n",
            "|R3H9543FWBWFBU|   37993909|B001CSIRQ8|     652431165|2015-01-31 00:08:00|\n",
            "| RUANXOQ9W3OU5|   26040213|B001KZ3NOO|     635861713|2015-01-31 00:08:00|\n",
            "|R31673RTGEZSW7|   34657602|B00005RCQS|      72099763|2015-01-31 00:08:00|\n",
            "|R22OQLFSH42RCM|   14346192|B00FA7RWVI|     757354022|2015-01-31 00:08:00|\n",
            "|R12LEL4F3TSZUJ|   38782687|B000MMH2HU|     272402599|2015-01-31 00:08:00|\n",
            "|R2L9XWD03072NI|   27138575|B00WJOATDS|     375070208|2015-01-31 00:08:00|\n",
            "|R2K0U91HIACANO|   11838771|B00BOM2JNY|     639666785|2015-01-31 00:08:00|\n",
            "|R29SP6MBT7MXG7|     535800|B00OD5GAFM|      38715442|2015-01-31 00:08:00|\n",
            "|R31XREAAMATEPY|   23156579|B00CAHDC1K|      57088652|2015-01-31 00:08:00|\n",
            "|R2116AVB87SO38|   48107879|B004NLHXLG|     114125984|2015-01-31 00:08:00|\n",
            "|R3RDVBB6O0X3HW|   27260960|B00L7OANWI|     883962979|2015-01-31 00:08:00|\n",
            "|R3LW5T149LKKQM|   39537314|B0085PPSIQ|     691479969|2015-01-31 00:08:00|\n",
            "+--------------+-----------+----------+--------------+-------------------+\n",
            "only showing top 20 rows\n",
            "\n"
          ]
        }
      ]
    },
    {
      "cell_type": "markdown",
      "source": [
        "Create the \"products\" Table"
      ],
      "metadata": {
        "id": "pQ-mVGptFp0H"
      }
    },
    {
      "cell_type": "code",
      "source": [
        "# Create the \"products_df\" DataFrame that drops the duplicates in the \"product_id\" and \"product_title columns. \n",
        "products_df = df.select([\"product_id\",\"product_title\"])\n",
        "products_df = products_df.dropDuplicates()\n",
        "products_df.show()"
      ],
      "metadata": {
        "colab": {
          "base_uri": "https://localhost:8080/"
        },
        "id": "o0zW66CRFaMy",
        "outputId": "a0a741fe-072b-45fe-a2ab-40d5e403c72b"
      },
      "execution_count": 7,
      "outputs": [
        {
          "output_type": "stream",
          "name": "stdout",
          "text": [
            "+----------+--------------------+\n",
            "|product_id|       product_title|\n",
            "+----------+--------------------+\n",
            "|B0092702VE|Abu Garcia Revo S...|\n",
            "|B00HZ9WTVC|Lee 90355 Cutter ...|\n",
            "|B00WS4FRQ8|BEEWARE Targets -...|\n",
            "|B00AKJVYYC|NEW Callaway RAZR...|\n",
            "|B00DIPSOM0|GoSports Ladder T...|\n",
            "|B0017LEUCU|Body Sport Exerci...|\n",
            "|B00B59OMS6|Swiftwick SUSTAIN...|\n",
            "|B00KC5SYLU|EliteTek RG-14 Fo...|\n",
            "|B000GKUAB8|Multisport Helmet...|\n",
            "|B001P80Z10|Izzo Golf Mini Mo...|\n",
            "|B0063HVE18|Weston 30-0008-W ...|\n",
            "|B00UR4HHDM|  Mission Multi-Cool|\n",
            "|B000P3WQ86|Plano Pro-Max Sin...|\n",
            "|B00005UDHY|Speedo Hydrospex ...|\n",
            "|B00NZCXMUA|Fastfender Sail F...|\n",
            "|B000YPIENQ|5.11 Tactical #73...|\n",
            "|B00I3P5PM2|Tfo Gts Inshore G...|\n",
            "|B009SPBB10|Twins Special Ful...|\n",
            "|B00WIWYBZI|Black Anime Foam ...|\n",
            "|B004SRA7GI|Moultrie Game Spy...|\n",
            "+----------+--------------------+\n",
            "only showing top 20 rows\n",
            "\n"
          ]
        }
      ]
    },
    {
      "cell_type": "markdown",
      "source": [
        "Create the \"customers\" Table"
      ],
      "metadata": {
        "id": "0zBXuT5YF0xM"
      }
    },
    {
      "cell_type": "code",
      "source": [
        "# Create the \"customers_df\" DataFrame that groups the data on the \"customer_id\" by the number of times a customer reviewed a product. \n",
        "from pyspark.sql.functions import desc\n",
        "\n",
        "customers_df = df.groupby(\"customer_id\").agg({\"customer_id\":\"count\"})\n",
        "customers_df = customers_df.orderBy(desc(\"count(customer_id)\"))\n",
        "customers_df = customers_df.withColumnRenamed(\"count(customer_id)\", \"customer_count\") \n",
        "customers_df.show()"
      ],
      "metadata": {
        "colab": {
          "base_uri": "https://localhost:8080/"
        },
        "id": "lhi4ZMPkF1nE",
        "outputId": "b04154d0-8072-46a0-f19c-a5868a9a3329"
      },
      "execution_count": 8,
      "outputs": [
        {
          "output_type": "stream",
          "name": "stdout",
          "text": [
            "+-----------+--------------+\n",
            "|customer_id|customer_count|\n",
            "+-----------+--------------+\n",
            "|   50820654|           552|\n",
            "|   37651511|           294|\n",
            "|   26955164|           272|\n",
            "|   50227539|           257|\n",
            "|   52870270|           245|\n",
            "|   25355517|           225|\n",
            "|   13355404|           193|\n",
            "|   46160224|           177|\n",
            "|   26772822|           172|\n",
            "|   52770861|           170|\n",
            "|   49335121|           162|\n",
            "|    1871743|           154|\n",
            "|   25436988|           144|\n",
            "|   20032310|           143|\n",
            "|   19512365|           142|\n",
            "|   51354368|           140|\n",
            "|   18453567|           138|\n",
            "|   36579538|           136|\n",
            "|   29505740|           136|\n",
            "|   52571463|           132|\n",
            "+-----------+--------------+\n",
            "only showing top 20 rows\n",
            "\n"
          ]
        }
      ]
    },
    {
      "cell_type": "markdown",
      "source": [
        "Create the \"vine_table\"."
      ],
      "metadata": {
        "id": "dIJvlBheF8BL"
      }
    },
    {
      "cell_type": "code",
      "source": [
        "# Create the \"vine_df\" DataFrame that has the \"review_id\", \"star_rating\", \"helpful_votes\", \"total_votes\", and \"vine\" columns. \n",
        "from pyspark.sql.functions import col\n",
        "\n",
        "vine_table_df = df.select([\"review_id\", \"star_rating\", \"helpful_votes\", \"total_votes\",\"vine\"])\n",
        "\n",
        "vine_table_df.show() "
      ],
      "metadata": {
        "colab": {
          "base_uri": "https://localhost:8080/"
        },
        "id": "f9ppu-B2F8yc",
        "outputId": "4fac380b-d020-457b-bfe5-2e95080e1e27"
      },
      "execution_count": 9,
      "outputs": [
        {
          "output_type": "stream",
          "name": "stdout",
          "text": [
            "+--------------+-----------+-------------+-----------+----+\n",
            "|     review_id|star_rating|helpful_votes|total_votes|vine|\n",
            "+--------------+-----------+-------------+-----------+----+\n",
            "|R1WBPB8MDCCN8F|          5|            0|          0|   N|\n",
            "|R32M0YEWV77XG8|          5|            1|          1|   N|\n",
            "| RR8V7WR27NXJ5|          1|            0|          0|   N|\n",
            "|R1MHO5V9Z932AY|          5|            0|          0|   N|\n",
            "|R16PD71086BD2V|          5|            0|          1|   N|\n",
            "|R1Z8IFGWTRWXT6|          3|            0|          0|   N|\n",
            "|R3AUMSHAW73HWN|          4|            2|          3|   N|\n",
            "|R2KWDWFOHGX6FL|          5|            0|          0|   N|\n",
            "|R3H9543FWBWFBU|          5|            1|          1|   N|\n",
            "| RUANXOQ9W3OU5|          5|            0|          0|   N|\n",
            "|R31673RTGEZSW7|          5|            2|          2|   N|\n",
            "|R22OQLFSH42RCM|          5|            1|          1|   N|\n",
            "|R12LEL4F3TSZUJ|          5|            2|          2|   N|\n",
            "|R2L9XWD03072NI|          5|            1|          2|   N|\n",
            "|R2K0U91HIACANO|          5|            0|          0|   N|\n",
            "|R29SP6MBT7MXG7|          4|            3|          3|   N|\n",
            "|R31XREAAMATEPY|          5|            0|          0|   N|\n",
            "|R2116AVB87SO38|          5|            0|          0|   N|\n",
            "|R3RDVBB6O0X3HW|          5|            0|          0|   N|\n",
            "|R3LW5T149LKKQM|          4|            0|          0|   N|\n",
            "+--------------+-----------+-------------+-----------+----+\n",
            "only showing top 20 rows\n",
            "\n"
          ]
        }
      ]
    },
    {
      "cell_type": "markdown",
      "source": [
        "Load"
      ],
      "metadata": {
        "id": "36i51lWkGEhV"
      }
    },
    {
      "cell_type": "code",
      "source": [
        "mode = \"append\"\n",
        "jdbc_url=\"jdbc:postgresql://<endpoint>:5432/my_data_class_db\"\n",
        "config = {\"user\":\"postgres\", \"password\": \"<password>\", \"driver\":\"org.postgresql.Driver\"}"
      ],
      "metadata": {
        "id": "HIpHKwSsGFGl"
      },
      "execution_count": 10,
      "outputs": []
    },
    {
      "cell_type": "code",
      "source": [
        "# Write review_id_df to table in RDS\n",
        "review_id_df.write.jdbc(url=jdbc_url, table='review_id_table', mode=mode, properties=config)"
      ],
      "metadata": {
        "id": "U2c8eioEGKVD"
      },
      "execution_count": null,
      "outputs": []
    },
    {
      "cell_type": "code",
      "source": [
        "# Write products_df to table in RDS\n",
        "products_df.write.jdbc(url=jdbc_url, table='products', mode=mode, properties=config)"
      ],
      "metadata": {
        "id": "dqwU2hR4GN0Q"
      },
      "execution_count": null,
      "outputs": []
    },
    {
      "cell_type": "code",
      "source": [
        "# Write customers_df to table in RDS\n",
        "customers_df.write.jdbc(url=jdbc_url, table='customers', mode=mode, properties=config)"
      ],
      "metadata": {
        "id": "kPJZDt58GQ3-"
      },
      "execution_count": null,
      "outputs": []
    },
    {
      "cell_type": "code",
      "source": [
        "# Write vine_df to table in RDS\n",
        "vine_table_df.write.jdbc(url=jdbc_url, table='vine_table', mode=mode, properties=config)"
      ],
      "metadata": {
        "id": "X34Wm-egGTwL"
      },
      "execution_count": null,
      "outputs": []
    }
  ]
}